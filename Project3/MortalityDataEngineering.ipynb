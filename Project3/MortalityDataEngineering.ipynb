{
  "cells": [
    {
      "cell_type": "markdown",
      "metadata": {
        "id": "RVudPnny9Lsu"
      },
      "source": [
        "# 1.0 Data Engineering with Python\n",
        "\n",
        "## 1.1 Extracting and Transforming data\n",
        "\n",
        "In this first section of the code we extract the data from INEGI. \n",
        "\n",
        "All urls are stored in the csv within disesases folder. \n",
        "\n"
      ]
    },
    {
      "cell_type": "code",
      "execution_count": null,
      "metadata": {
        "colab": {
          "base_uri": "https://localhost:8080/"
        },
        "id": "tg0-F1jXHm6X",
        "outputId": "11fdc291-d293-423a-a3b3-0df56793f1ce"
      },
      "outputs": [
        {
          "name": "stdout",
          "output_type": "stream",
          "text": [
            "Writing to /root/.config/pip/pip.conf\n",
            "Looking in indexes: https://pypi.org/simple, https://us-python.pkg.dev/colab-wheels/public/simple/\n",
            "Collecting wget\n",
            "  Downloading wget-3.2.zip (10 kB)\n",
            "Building wheels for collected packages: wget\n",
            "  Building wheel for wget (setup.py) ... \u001b[?25l\u001b[?25hdone\n",
            "  Created wheel for wget: filename=wget-3.2-py3-none-any.whl size=9675 sha256=35eeb14c24329abaf2e954a41cca98b53e979b32aa7637318dbc7ea8dbbc6ba2\n",
            "  Stored in directory: /root/.cache/pip/wheels/a1/b6/7c/0e63e34eb06634181c63adacca38b79ff8f35c37e3c13e3c02\n",
            "Successfully built wget\n",
            "Installing collected packages: wget\n",
            "Successfully installed wget-3.2\n",
            "Looking in indexes: https://pypi.org/simple, https://us-python.pkg.dev/colab-wheels/public/simple/\n",
            "Collecting simpledbf\n",
            "  Downloading simpledbf-0.2.6.tar.gz (17 kB)\n",
            "Building wheels for collected packages: simpledbf\n",
            "  Building wheel for simpledbf (setup.py) ... \u001b[?25l\u001b[?25hdone\n",
            "  Created wheel for simpledbf: filename=simpledbf-0.2.6-py3-none-any.whl size=13800 sha256=b7dc79a574ec2242c6432282fc8c5dc7d39b9e7d2806d401936deb4f90c9f57c\n",
            "  Stored in directory: /root/.cache/pip/wheels/24/43/f4/39ad84349e5358346be977fe626160f5625fdd3ea8e017518c\n",
            "Successfully built simpledbf\n",
            "Installing collected packages: simpledbf\n",
            "Successfully installed simpledbf-0.2.6\n",
            "Looking in indexes: https://pypi.org/simple, https://us-python.pkg.dev/colab-wheels/public/simple/\n",
            "Collecting dbfread\n",
            "  Downloading dbfread-2.0.7-py2.py3-none-any.whl (20 kB)\n",
            "Installing collected packages: dbfread\n",
            "Successfully installed dbfread-2.0.7\n",
            "Looking in indexes: https://pypi.org/simple, https://us-python.pkg.dev/colab-wheels/public/simple/\n",
            "Collecting dbf\n",
            "  Downloading dbf-0.99.2-py3-none-any.whl (107 kB)\n",
            "\u001b[?25l\n",
            "\u001b[?25hCollecting aenum\n",
            "  Downloading aenum-3.1.11-py3-none-any.whl (131 kB)\n",
            "\u001b[?25l\n",
            "\u001b[?25hInstalling collected packages: aenum, dbf\n",
            "Successfully installed aenum-3.1.11 dbf-0.99.2\n"
          ]
        }
      ],
      "source": [
        "\n",
        "!pip config --user set global.progress_bar off\n",
        "!pip install wget\n",
        "!pip install simpledbf\n",
        "!pip install dbfread\n",
        "!pip install dbf"
      ]
    },
    {
      "cell_type": "code",
      "execution_count": null,
      "metadata": {
        "id": "FGTGeLaH9I7K"
      },
      "outputs": [],
      "source": [
        "# Load libraries\n",
        "import pandas as pd;\n",
        "import numpy as np;\n",
        "import os;\n",
        "import wget\n",
        "import zipfile\n",
        "import shutil\n",
        "import glob\n",
        "from simpledbf import Dbf5\n",
        "import dbfread as dbr;\n",
        "import dbf\n",
        "import re"
      ]
    },
    {
      "cell_type": "code",
      "execution_count": null,
      "metadata": {
        "id": "lm0il2xN9KSr"
      },
      "outputs": [],
      "source": [
        "\n"
      ]
    },
    {
      "cell_type": "code",
      "execution_count": null,
      "metadata": {
        "colab": {
          "base_uri": "https://localhost:8080/"
        },
        "id": "QjWUeH0Z9KVl",
        "outputId": "6f8085fc-bf18-4a75-d10b-57c67c59e6fc"
      },
      "outputs": [
        {
          "name": "stdout",
          "output_type": "stream",
          "text": [
            "Mounted at /content/gdrive\n"
          ]
        }
      ],
      "source": [
        "######################################### Set up the environment #############################################\n",
        "directory=\"./Resources\"\n",
        "os.chdir(directory)\n"
      ]
    },
    {
      "cell_type": "code",
      "execution_count": null,
      "metadata": {},
      "outputs": [],
      "source": [
        "####################################This function is done to transform dbf to csv ######################################3333\n",
        "def dbf_to_csv(path):\n",
        "  file_list=os.listdir()\n",
        "  for file in file_list:\n",
        "    if file.lower().endswith('.dbf'):\n",
        "        dbf2 = Dbf5(file, codec='cp850')\n",
        "        df2 = dbf2.to_dataframe()\n",
        "        if (os.path.exists(path)==True):\n",
        "          df2.to_csv(path+file[0:len(file)-4].lower()+\".csv\")\n",
        "        else:\n",
        "          os.mkdir(path)\n",
        "          df2.to_csv(path+(file[0:len(file)-4].lower())+\".csv\")\n",
        "\n"
      ]
    },
    {
      "cell_type": "code",
      "execution_count": null,
      "metadata": {},
      "outputs": [],
      "source": [
        "####################################This function is done to download files from INEGI ######################################3333\n",
        "def download_files():\n",
        "  directory=\"./Resources/raw\"\n",
        "  directory_clean=\"./Resources/clean\"\n",
        "  os.chdir(directory)\n",
        "  urls_file = pd.read_csv('./Resources/raw/links.csv',header=None)\n",
        "  urls_iterable=[]\n",
        "  for row in urls_file.iterrows():\n",
        "    if((row[1][1])-row[1][2]==0):\n",
        "      temp_directory1=(directory+\"/\"+str(row[1][1]))\n",
        "      os.mkdir(directory+\"/\"+str(row[1][1]))\n",
        "      os.chdir(directory+\"/\"+str(row[1][1]))\n",
        "      wget.download(row[1][0])\n",
        "      zip_file=os.listdir()\n",
        "      shutil.unpack_archive(zip_file[0])\n",
        "      dbf_to_csv(directory_clean+\"/\"+str(row[1][1])+\"/\")\n",
        "      subfolders_check=os.listdir()\n",
        "      for subfold in subfolders_check:\n",
        "        if not subfold.__contains__(\".\"):\n",
        "          temp_directory2=(temp_directory1+\"/\"+subfold)\n",
        "          os.chdir(temp_directory2)\n",
        "          dbf_to_csv(directory_clean+\"/\"+str(row[1][1])+\"/\")\n",
        "    if((row[1][1])-row[1][2]<0):\n",
        "      temp_directory1=(directory+\"/\"+str(row[1][1]))\n",
        "      os.mkdir(directory+\"/\"+str(row[1][1]))\n",
        "      os.chdir(directory+\"/\"+str(row[1][1]))\n",
        "      wget.download(row[1][0])\n",
        "      zip_file=os.listdir()\n",
        "      shutil.unpack_archive(zip_file[0])\n",
        "      dbf_to_csv(directory_clean+\"/\"+str(row[1][1]))\n",
        "      subfolders_check=os.listdir()\n",
        "      for subfold in subfolders_check:\n",
        "        if not subfold.__contains__(\".\"):\n",
        "          temp_directory2=(temp_directory1+\"/\"+subfold)\n",
        "          year_subfold=re.findall(r'\\d+',subfold)\n",
        "          os.chdir(temp_directory2)\n",
        "          dbf_to_csv(directory_clean+\"/\"+year_subfold[0]+\"/\")\n",
        "\n"
      ]
    },
    {
      "cell_type": "code",
      "execution_count": null,
      "metadata": {
        "colab": {
          "base_uri": "https://localhost:8080/"
        },
        "id": "y2Jb3CZ19KiC",
        "outputId": "26942ab4-cc0c-4129-cd0f-be0c0401e0fa"
      },
      "outputs": [
        {
          "name": "stdout",
          "output_type": "stream",
          "text": [
            "Mounted at /content/gdrive\n"
          ]
        }
      ],
      "source": [
        "\n",
        "download_files()"
      ]
    },
    {
      "cell_type": "markdown",
      "metadata": {
        "id": "L2iCwRYPxjLw"
      },
      "source": [
        "## 1.2 Transforming data\n",
        "\n",
        "In this section we append all the csv files we previously downloaded and transformed into eighth different tables. "
      ]
    },
    {
      "cell_type": "code",
      "execution_count": null,
      "metadata": {
        "id": "VswupOwgwgpz"
      },
      "outputs": [],
      "source": [
        "tables=[\"gpolimex\", \n",
        "        \"parentesco\", \n",
        "        \"capgpo\",\n",
        "        \"listamex\",\n",
        "        \"lista1\",\n",
        "        \"catminde\"]\n",
        "\n",
        "time_var=[\"defun\", \"catemlde\"]\n"
      ]
    },
    {
      "cell_type": "code",
      "execution_count": null,
      "metadata": {
        "colab": {
          "base_uri": "https://localhost:8080/"
        },
        "id": "EtvCV4Gf1HNj",
        "outputId": "ae7acaa8-e6ca-4d88-ac75-c0bdbc9b2084"
      },
      "outputs": [
        {
          "name": "stdout",
          "output_type": "stream",
          "text": [
            "['lista1.csv', 'listamex.csv', 'parentesco.csv', 'capgpo.csv', 'catemlde20.csv', 'catminde.csv', 'defun20.csv', 'gpolimex.csv']\n",
            "['capgpo.csv', 'catemlde19.csv', 'catminde.csv', 'defun19.csv', 'gpolimex.csv', 'lista1.csv', 'listamex.csv', 'parentesco.csv']\n",
            "['defun18.csv', 'gpolimex.csv', 'lista1.csv', 'listamex.csv', 'parentesco.csv', 'capgpo.csv', 'catemlde18.csv', 'catminde.csv']\n",
            "['listamex.csv', 'parentesco.csv', 'capgpo.csv', 'catemlde17.csv', 'catminde.csv', 'defun17.csv', 'gpolimex.csv', 'lista1.csv']\n",
            "['gpolimex.csv', 'lista1.csv', 'listamex.csv', 'parentesco.csv', 'defun16.csv', 'capgpo.csv', 'catemlde16.csv', 'catminde.csv']\n",
            "['lista1.csv', 'listamex.csv', 'defun15.csv', 'parentesco.csv', 'catemlde15.csv', 'catminde.csv', 'capgpo.csv', 'gpolimex.csv']\n",
            "['capgpo.csv', 'catemlde14.csv', 'catminde.csv', 'defun14.csv', 'gpolimex.csv', 'lista1.csv', 'listamex.csv', 'parentesco.csv']\n",
            "['capgpo.csv', 'catemlde13.csv', 'catminde.csv', 'defun13.csv', 'gpolimex.csv', 'lista1.csv', 'listamex.csv', 'parentesco.csv']\n"
          ]
        },
        {
          "name": "stderr",
          "output_type": "stream",
          "text": [
            "/usr/local/lib/python3.7/dist-packages/IPython/core/interactiveshell.py:3326: DtypeWarning: Columns (43,51) have mixed types.Specify dtype option on import or set low_memory=False.\n",
            "  exec(code_obj, self.user_global_ns, self.user_ns)\n"
          ]
        }
      ],
      "source": [
        "directory_clean=\"./Resources/clean\"\n",
        "os.chdir(directory_clean)\n",
        "years=[\"2020\",\"2019\",\"2018\",\"2017\",\"2016\",\"2015\",\"2014\",\"2013\"]\n",
        "for year in years:\n",
        "  os.chdir(directory_clean+\"/\"+year)\n",
        "  print(os.listdir())\n",
        "  for table in time_var:\n",
        "    temp_table=pd.read_csv(table+year[2:4]+\".csv\")\n",
        "    temp_table[\"year\"]=year\n",
        "    temp_table.append(temp_table)\n",
        "  temp_table.to_csv(directory_clean+\"/\"+table+\".csv\")"
      ]
    },
    {
      "cell_type": "code",
      "execution_count": null,
      "metadata": {
        "colab": {
          "base_uri": "https://localhost:8080/"
        },
        "id": "6jOPj9jd1MSb",
        "outputId": "ce18b7f3-fc75-4694-8dc8-fcd5606366a1"
      },
      "outputs": [
        {
          "name": "stdout",
          "output_type": "stream",
          "text": [
            "['lista1.csv', 'listamex.csv', 'parentesco.csv', 'capgpo.csv', 'catemlde20.csv', 'catminde.csv', 'defun20.csv', 'gpolimex.csv']\n",
            "['capgpo.csv', 'catemlde19.csv', 'catminde.csv', 'defun19.csv', 'gpolimex.csv', 'lista1.csv', 'listamex.csv', 'parentesco.csv']\n",
            "['defun18.csv', 'gpolimex.csv', 'lista1.csv', 'listamex.csv', 'parentesco.csv', 'capgpo.csv', 'catemlde18.csv', 'catminde.csv']\n",
            "['listamex.csv', 'parentesco.csv', 'capgpo.csv', 'catemlde17.csv', 'catminde.csv', 'defun17.csv', 'gpolimex.csv', 'lista1.csv']\n",
            "['gpolimex.csv', 'lista1.csv', 'listamex.csv', 'parentesco.csv', 'defun16.csv', 'capgpo.csv', 'catemlde16.csv', 'catminde.csv']\n",
            "['lista1.csv', 'listamex.csv', 'defun15.csv', 'parentesco.csv', 'catemlde15.csv', 'catminde.csv', 'capgpo.csv', 'gpolimex.csv']\n",
            "['capgpo.csv', 'catemlde14.csv', 'catminde.csv', 'defun14.csv', 'gpolimex.csv', 'lista1.csv', 'listamex.csv', 'parentesco.csv']\n",
            "['capgpo.csv', 'catemlde13.csv', 'catminde.csv', 'defun13.csv', 'gpolimex.csv', 'lista1.csv', 'listamex.csv', 'parentesco.csv']\n"
          ]
        }
      ],
      "source": [
        "directory_clean=\"/content/gdrive/My Drive/diseases/clean\"\n",
        "os.chdir(directory_clean)\n",
        "years=[\"2020\",\"2019\",\"2018\",\"2017\",\"2016\",\"2015\",\"2014\",\"2013\"]\n",
        "#years=os.listdir()\n",
        "for year in years:\n",
        "  os.chdir(directory_clean+\"/\"+year)\n",
        "  print(os.listdir())\n",
        "  for table in tables:\n",
        "    temp_table=pd.read_csv(table+\".csv\")\n",
        "    temp_table[\"year\"]=year\n",
        "    temp_table.append(temp_table)\n",
        "    temp_table.to_csv(directory_clean+\"/\"+table+\".csv\")"
      ]
    },
    {
      "cell_type": "code",
      "execution_count": null,
      "metadata": {
        "id": "fHDNkLID1MI0"
      },
      "outputs": [],
      "source": [
        "temp_lista1=pd.read_csv('/content/gdrive/My Drive/diseases/clean/2020/lista1.csv')\n",
        "temp_lista1[\"year\"]=\"2020\"\n",
        "temp_listamex=pd.read_csv('/content/gdrive/My Drive/diseases/clean/2020/listamex.csv')\n",
        "temp_listamex[\"year\"]=\"2020\"\n",
        "temp_parentesco=pd.read_csv('/content/gdrive/My Drive/diseases/clean/2020/parentesco.csv')\n",
        "temp_parentesco[\"year\"]=\"2020\"\n",
        "temp_capgpo=pd.read_csv('/content/gdrive/My Drive/diseases/clean/2020/capgpo.csv')\n",
        "temp_capgpo[\"year\"]=\"2020\"\n",
        "temp_catemlde=pd.read_csv('/content/gdrive/My Drive/diseases/clean/2020/catemlde20.csv')\n",
        "temp_catemlde[\"year\"]=\"2020\"\n",
        "temp_catminde=pd.read_csv('/content/gdrive/My Drive/diseases/clean/2020/catminde.csv')\n",
        "temp_catminde[\"year\"]=\"2020\"\n",
        "temp_defun=pd.read_csv('/content/gdrive/My Drive/diseases/clean/2020/defun20.csv')\n",
        "temp_defun[\"year\"]=\"2020\"\n",
        "temp_gpolimex=pd.read_csv('/content/gdrive/My Drive/diseases/clean/2020/gpolimex.csv')\n",
        "temp_gpolimex[\"year\"]=\"2020\"\n",
        "\n"
      ]
    },
    {
      "cell_type": "code",
      "execution_count": null,
      "metadata": {
        "id": "oc9pNcwG1MGJ"
      },
      "outputs": [],
      "source": [
        "#####Lista1\n",
        "directory_clean=\"./Resources/clean\"\n",
        "os.chdir(directory_clean)\n",
        "years=[\"2019\",\"2018\",\"2017\",\"2016\",\"2015\"]\n",
        "#years=os.listdir()\n",
        "tables=[\"lista1\"]\n",
        "for table in tables:\n",
        "  for year in years:\n",
        "    os.chdir(directory_clean+\"/\"+year)\n",
        "    temp_table=pd.read_csv(table+\".csv\")\n",
        "    temp_table[\"year\"]=year\n",
        "    temp_lista1=temp_lista1.append(temp_table)\n",
        "  temp_lista1.to_csv(directory_clean+\"/\"+table+\".csv\", index = False)"
      ]
    },
    {
      "cell_type": "code",
      "execution_count": null,
      "metadata": {
        "id": "hr943a7XeD1d"
      },
      "outputs": [],
      "source": [
        "#####temp_listamex\n",
        "directory_clean=\"./Resources/clean\"\n",
        "os.chdir(directory_clean)\n",
        "years=[\"2019\",\"2018\",\"2017\",\"2016\",\"2015\"]\n",
        "#years=os.listdir()\n",
        "tables=[\"listamex\"]\n",
        "for table in tables:\n",
        "  for year in years:\n",
        "    os.chdir(directory_clean+\"/\"+year)\n",
        "    temp_table=pd.read_csv(table+\".csv\")\n",
        "    temp_table[\"year\"]=year\n",
        "    temp_listamex=temp_listamex.append(temp_table)\n",
        "temp_listamex.to_csv(directory_clean+\"/\"+table+\".csv\")"
      ]
    },
    {
      "cell_type": "code",
      "execution_count": null,
      "metadata": {
        "id": "Q7lQTyLleDrH"
      },
      "outputs": [],
      "source": [
        "#####temp_parentesco\n",
        "directory_clean=\"./Resources/clean\"\n",
        "os.chdir(directory_clean)\n",
        "years=[\"2019\",\"2018\",\"2017\",\"2016\",\"2015\"]\n",
        "#years=os.listdir()\n",
        "tables=[\"parentesco\"]\n",
        "for table in tables:\n",
        "  for year in years:\n",
        "    os.chdir(directory_clean+\"/\"+year)\n",
        "    temp_table=pd.read_csv(table+\".csv\")\n",
        "    temp_table[\"year\"]=year\n",
        "    temp_parentesco=temp_parentesco.append(temp_table)\n",
        "temp_parentesco.to_csv(directory_clean+\"/\"+table+\".csv\")"
      ]
    },
    {
      "cell_type": "code",
      "execution_count": null,
      "metadata": {
        "id": "SL15wZrqeDoZ"
      },
      "outputs": [],
      "source": [
        "#####temp_capgpo\n",
        "directory_clean=\"/content/gdrive/My Drive/diseases/clean\"\n",
        "os.chdir(directory_clean)\n",
        "years=[\"2019\",\"2018\",\"2017\",\"2016\",\"2015\"]\n",
        "#years=os.listdir()\n",
        "tables=[\"capgpo\"]\n",
        "for table in tables:\n",
        "  for year in years:\n",
        "    os.chdir(directory_clean+\"/\"+year)\n",
        "    temp_table=pd.read_csv(table+\".csv\")\n",
        "    temp_table[\"year\"]=year\n",
        "    temp_capgpo=temp_capgpo.append(temp_table)\n",
        "temp_capgpo.to_csv(directory_clean+\"/\"+table+\".csv\")"
      ]
    },
    {
      "cell_type": "code",
      "execution_count": null,
      "metadata": {
        "id": "ceSE9g74eDld"
      },
      "outputs": [],
      "source": [
        "#####temp_catminde\n",
        "directory_clean=\"./Resources/clean\"\n",
        "os.chdir(directory_clean)\n",
        "years=[\"2019\",\"2018\",\"2017\",\"2016\",\"2015\"]\n",
        "#years=os.listdir()\n",
        "tables=[\"catminde\"]\n",
        "for table in tables:\n",
        "  for year in years:\n",
        "    os.chdir(directory_clean+\"/\"+year)\n",
        "    temp_table=pd.read_csv(table+\".csv\")\n",
        "    temp_table[\"year\"]=year\n",
        "    temp_catminde=temp_catminde.append(temp_table)\n",
        "temp_catminde.to_csv(directory_clean+\"/\"+table+\".csv\")"
      ]
    },
    {
      "cell_type": "code",
      "execution_count": null,
      "metadata": {
        "id": "LeVznqEBeDiv"
      },
      "outputs": [],
      "source": [
        "#####temp_gpolimex\n",
        "directory_clean=\"./Resources/clean\"\n",
        "os.chdir(directory_clean)\n",
        "years=[\"2019\",\"2018\",\"2017\",\"2016\",\"2015\"]\n",
        "#years=os.listdir()\n",
        "tables=[\"gpolimex\"]\n",
        "for table in tables:\n",
        "  for year in years:\n",
        "    os.chdir(directory_clean+\"/\"+year)\n",
        "    temp_table=pd.read_csv(table+\".csv\")\n",
        "    temp_table[\"year\"]=year\n",
        "    temp_gpolimex=temp_gpolimex.append(temp_table)\n",
        "temp_gpolimex.to_csv(directory_clean+\"/\"+table+\".csv\")"
      ]
    },
    {
      "cell_type": "code",
      "execution_count": null,
      "metadata": {
        "id": "DX57EWoReDah"
      },
      "outputs": [],
      "source": [
        "#####temp_catemlde\n",
        "directory_clean=\"./Resources/clean\"\n",
        "os.chdir(directory_clean)\n",
        "years=[\"2019\",\"2018\",\"2017\",\"2016\",\"2015\"]\n",
        "#years=os.listdir()\n",
        "tables=[\"catemlde\"]\n",
        "for table in tables:\n",
        "  for year in years:\n",
        "    os.chdir(directory_clean+\"/\"+year)\n",
        "    temp_table=pd.read_csv(table+year[2:4]+\".csv\")\n",
        "    temp_table[\"year\"]=year\n",
        "    temp_catemlde=temp_catemlde.append(temp_table)\n",
        "temp_catemlde.to_csv(directory_clean+\"/\"+table+\".csv\")"
      ]
    },
    {
      "cell_type": "code",
      "execution_count": null,
      "metadata": {
        "colab": {
          "base_uri": "https://localhost:8080/"
        },
        "id": "QKatnw-e1Lsc",
        "outputId": "94c538b0-af06-429d-f2bc-33ef77cc7335"
      },
      "outputs": [
        {
          "name": "stdout",
          "output_type": "stream",
          "text": [
            "2019\n",
            "2018\n",
            "2017\n",
            "2016\n",
            "2015\n"
          ]
        }
      ],
      "source": [
        "#####temp_defun\n",
        "directory_clean=\"./Resources/clean\"\n",
        "os.chdir(directory_clean)\n",
        "years=[\"2019\",\"2018\",\"2017\",\"2016\",\"2015\"]\n",
        "#years=os.listdir()\n",
        "tables=[\"defun\"]\n",
        "for table in tables:\n",
        "  for year in years:\n",
        "    os.chdir(directory_clean+\"/\"+year)\n",
        "    temp_table=pd.read_csv(table+year[2:4]+\".csv\")\n",
        "    temp_table[\"year\"]=year\n",
        "    temp_defun=temp_defun.append(temp_table)\n",
        "  temp_defun.to_csv(directory_clean+\"/\"+table+\".csv\")"
      ]
    }
  ],
  "metadata": {
    "colab": {
      "collapsed_sections": [],
      "name": "MortalityDataEngineering.ipynb",
      "provenance": []
    },
    "kernelspec": {
      "display_name": "Python 3.9.7 ('base')",
      "language": "python",
      "name": "python3"
    },
    "language_info": {
      "name": "python",
      "version": "3.9.7"
    },
    "vscode": {
      "interpreter": {
        "hash": "9fa5389fe59f3a10c137989d5ed17ae648d93c64dd8c902f937115bb358a2371"
      }
    }
  },
  "nbformat": 4,
  "nbformat_minor": 0
}
