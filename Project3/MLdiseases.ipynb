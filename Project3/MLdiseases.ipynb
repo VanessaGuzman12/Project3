{
  "cells": [
    {
      "cell_type": "code",
      "execution_count": 1,
      "metadata": {
        "id": "9PCzWE4HXqen"
      },
      "outputs": [],
      "source": [
        "import pandas as pd\n",
        "import sklearn\n",
        "import numpy as np\n",
        "import os\n",
        "from sklearn.datasets import make_classification\n",
        "from sklearn.ensemble import ExtraTreesClassifier\n",
        "from sklearn.metrics import ConfusionMatrixDisplay, confusion_matrix\n",
        "from sklearn.model_selection import train_test_split\n",
        "from sklearn.multiclass import OneVsRestClassifier\n",
        "from sklearn.svm import SVC\n",
        "from sklearn import preprocessing, svm\n",
        "from sklearn.model_selection import train_test_split\n",
        "from sklearn.linear_model import LinearRegression\n",
        " "
      ]
    },
    {
      "cell_type": "code",
      "execution_count": 2,
      "metadata": {
        "colab": {
          "base_uri": "https://localhost:8080/"
        },
        "id": "pHsZusYDX5NS",
        "outputId": "866122c0-c012-4e8f-9fc9-072460ef7d63"
      },
      "outputs": [],
      "source": [
        "\n",
        "directory=\"./Resources\"\n",
        "os.chdir(directory)\n"
      ]
    },
    {
      "cell_type": "code",
      "execution_count": 3,
      "metadata": {
        "id": "RFHGXbggX5KJ"
      },
      "outputs": [],
      "source": [
        "data=pd.read_csv(\"mexicomortality.csv\")"
      ]
    },
    {
      "cell_type": "code",
      "execution_count": 4,
      "metadata": {
        "colab": {
          "base_uri": "https://localhost:8080/",
          "height": 214
        },
        "id": "8CPH3mfjYI2y",
        "outputId": "59dd61c5-0b7c-4691-bb53-5eeea58bb10b"
      },
      "outputs": [
        {
          "data": {
            "text/html": [
              "<div>\n",
              "<style scoped>\n",
              "    .dataframe tbody tr th:only-of-type {\n",
              "        vertical-align: middle;\n",
              "    }\n",
              "\n",
              "    .dataframe tbody tr th {\n",
              "        vertical-align: top;\n",
              "    }\n",
              "\n",
              "    .dataframe thead th {\n",
              "        text-align: right;\n",
              "    }\n",
              "</style>\n",
              "<table border=\"1\" class=\"dataframe\">\n",
              "  <thead>\n",
              "    <tr style=\"text-align: right;\">\n",
              "      <th></th>\n",
              "      <th>Unnamed: 0</th>\n",
              "      <th>date_regis</th>\n",
              "      <th>date_ocur</th>\n",
              "      <th>date_nacim</th>\n",
              "      <th>death_cause_desc</th>\n",
              "      <th>state</th>\n",
              "      <th>municipality</th>\n",
              "      <th>gender</th>\n",
              "      <th>scholarity</th>\n",
              "      <th>death_cause_eng</th>\n",
              "      <th>language_eng</th>\n",
              "      <th>insurance_eng</th>\n",
              "      <th>death_age</th>\n",
              "    </tr>\n",
              "  </thead>\n",
              "  <tbody>\n",
              "    <tr>\n",
              "      <th>0</th>\n",
              "      <td>0</td>\n",
              "      <td>2020-01-16</td>\n",
              "      <td>2016-11-25</td>\n",
              "      <td>1942-03-31</td>\n",
              "      <td>Enfermedad pulmonar obstructiva crónica con ex...</td>\n",
              "      <td>Aguascalientes</td>\n",
              "      <td>Aguascalientes</td>\n",
              "      <td>Female</td>\n",
              "      <td>Incomplete primary</td>\n",
              "      <td>Respiratory</td>\n",
              "      <td>Spanish</td>\n",
              "      <td>ISSSTE</td>\n",
              "      <td>74.657248</td>\n",
              "    </tr>\n",
              "  </tbody>\n",
              "</table>\n",
              "</div>"
            ],
            "text/plain": [
              "   Unnamed: 0  date_regis   date_ocur  date_nacim  \\\n",
              "0           0  2020-01-16  2016-11-25  1942-03-31   \n",
              "\n",
              "                                    death_cause_desc           state  \\\n",
              "0  Enfermedad pulmonar obstructiva crónica con ex...  Aguascalientes   \n",
              "\n",
              "     municipality  gender          scholarity death_cause_eng language_eng  \\\n",
              "0  Aguascalientes  Female  Incomplete primary     Respiratory      Spanish   \n",
              "\n",
              "  insurance_eng  death_age  \n",
              "0        ISSSTE  74.657248  "
            ]
          },
          "execution_count": 4,
          "metadata": {},
          "output_type": "execute_result"
        }
      ],
      "source": [
        "data.head(1)"
      ]
    },
    {
      "cell_type": "code",
      "execution_count": 5,
      "metadata": {
        "colab": {
          "base_uri": "https://localhost:8080/",
          "height": 179
        },
        "id": "Tf3ivQwJX5Es",
        "outputId": "3ee9aaa7-41c3-4a54-fbeb-b7d8f8226126"
      },
      "outputs": [
        {
          "data": {
            "text/html": [
              "<div>\n",
              "<style scoped>\n",
              "    .dataframe tbody tr th:only-of-type {\n",
              "        vertical-align: middle;\n",
              "    }\n",
              "\n",
              "    .dataframe tbody tr th {\n",
              "        vertical-align: top;\n",
              "    }\n",
              "\n",
              "    .dataframe thead th {\n",
              "        text-align: right;\n",
              "    }\n",
              "</style>\n",
              "<table border=\"1\" class=\"dataframe\">\n",
              "  <thead>\n",
              "    <tr style=\"text-align: right;\">\n",
              "      <th></th>\n",
              "      <th>Unnamed: 0</th>\n",
              "      <th>date_regis</th>\n",
              "      <th>date_ocur</th>\n",
              "      <th>date_nacim</th>\n",
              "      <th>death_cause_desc</th>\n",
              "      <th>state</th>\n",
              "      <th>municipality</th>\n",
              "      <th>gender</th>\n",
              "      <th>scholarity</th>\n",
              "      <th>death_cause_eng</th>\n",
              "      <th>language_eng</th>\n",
              "      <th>insurance_eng</th>\n",
              "      <th>death_age</th>\n",
              "    </tr>\n",
              "  </thead>\n",
              "  <tbody>\n",
              "    <tr>\n",
              "      <th>1029185</th>\n",
              "      <td>1029185</td>\n",
              "      <td>2020-08-23</td>\n",
              "      <td>2020-08-23</td>\n",
              "      <td>1953-01-15</td>\n",
              "      <td>COVID-19, virus identificado</td>\n",
              "      <td>Zacatecas</td>\n",
              "      <td>Zacatecas</td>\n",
              "      <td>Female</td>\n",
              "      <td>Unknown</td>\n",
              "      <td>Covid-19</td>\n",
              "      <td>No data</td>\n",
              "      <td>No data</td>\n",
              "      <td>67.6044</td>\n",
              "    </tr>\n",
              "  </tbody>\n",
              "</table>\n",
              "</div>"
            ],
            "text/plain": [
              "         Unnamed: 0  date_regis   date_ocur  date_nacim  \\\n",
              "1029185     1029185  2020-08-23  2020-08-23  1953-01-15   \n",
              "\n",
              "                     death_cause_desc      state municipality  gender  \\\n",
              "1029185  COVID-19, virus identificado  Zacatecas    Zacatecas  Female   \n",
              "\n",
              "        scholarity death_cause_eng language_eng insurance_eng  death_age  \n",
              "1029185    Unknown        Covid-19      No data       No data    67.6044  "
            ]
          },
          "execution_count": 5,
          "metadata": {},
          "output_type": "execute_result"
        }
      ],
      "source": [
        "data2=data.loc[(data[\"date_regis\"].str.slice(start=0, stop=4) == \"2020\")] \n",
        "data2.tail(1)"
      ]
    },
    {
      "cell_type": "code",
      "execution_count": 6,
      "metadata": {
        "colab": {
          "base_uri": "https://localhost:8080/"
        },
        "id": "C4wsATjZcXV1",
        "outputId": "94d4c393-285a-4e50-ccfc-8ea694335f33"
      },
      "outputs": [
        {
          "name": "stderr",
          "output_type": "stream",
          "text": [
            "C:\\Users\\vanem\\AppData\\Local\\Temp\\ipykernel_24820\\4141209751.py:3: SettingWithCopyWarning: \n",
            "A value is trying to be set on a copy of a slice from a DataFrame\n",
            "\n",
            "See the caveats in the documentation: https://pandas.pydata.org/pandas-docs/stable/user_guide/indexing.html#returning-a-view-versus-a-copy\n",
            "  X_orig.rename(columns = {'language_eng':'languageeng', 'insurance_eng':'insuranceeng', 'death_cause_eng':'deathcauseeng'}, inplace = True)\n"
          ]
        }
      ],
      "source": [
        "\n",
        "\n",
        "X_orig=data2[['state', 'gender', 'scholarity',\n",
        "        'language_eng', 'insurance_eng', 'death_cause_eng']]\n",
        "X_orig.rename(columns = {'language_eng':'languageeng', 'insurance_eng':'insuranceeng', 'death_cause_eng':'deathcauseeng'}, inplace = True)\n",
        "\n",
        "\n",
        "\n",
        "X = pd.get_dummies(data=X_orig, drop_first=True)\n",
        "X.head()\n",
        "y=data2['death_age']"
      ]
    },
    {
      "cell_type": "code",
      "execution_count": 7,
      "metadata": {
        "id": "n0osZpc-cRxe"
      },
      "outputs": [],
      "source": [
        "X_train, X_test, y_train, y_test = train_test_split(\n",
        "    X, y, test_size=0.3, random_state=1121218\n",
        ")"
      ]
    },
    {
      "cell_type": "code",
      "execution_count": 8,
      "metadata": {
        "id": "axUG5P4McRuS"
      },
      "outputs": [],
      "source": [
        "regr = LinearRegression()\n",
        "regr.fit(X_train, y_train)\n",
        "y_pred = regr.predict(X_test)"
      ]
    },
    {
      "cell_type": "code",
      "execution_count": 9,
      "metadata": {
        "colab": {
          "base_uri": "https://localhost:8080/",
          "height": 424
        },
        "id": "xMYFAxW3cRrS",
        "outputId": "bd95f055-9fdb-4363-edf0-e41d16ec6d19"
      },
      "outputs": [
        {
          "data": {
            "text/html": [
              "<div>\n",
              "<style scoped>\n",
              "    .dataframe tbody tr th:only-of-type {\n",
              "        vertical-align: middle;\n",
              "    }\n",
              "\n",
              "    .dataframe tbody tr th {\n",
              "        vertical-align: top;\n",
              "    }\n",
              "\n",
              "    .dataframe thead th {\n",
              "        text-align: right;\n",
              "    }\n",
              "</style>\n",
              "<table border=\"1\" class=\"dataframe\">\n",
              "  <thead>\n",
              "    <tr style=\"text-align: right;\">\n",
              "      <th></th>\n",
              "      <th>Coefficient</th>\n",
              "    </tr>\n",
              "  </thead>\n",
              "  <tbody>\n",
              "    <tr>\n",
              "      <th>state_Baja California</th>\n",
              "      <td>-1.917132</td>\n",
              "    </tr>\n",
              "    <tr>\n",
              "      <th>state_Baja California Sur</th>\n",
              "      <td>-1.683276</td>\n",
              "    </tr>\n",
              "    <tr>\n",
              "      <th>state_Campeche</th>\n",
              "      <td>-1.491303</td>\n",
              "    </tr>\n",
              "    <tr>\n",
              "      <th>state_Chiapas</th>\n",
              "      <td>-3.777280</td>\n",
              "    </tr>\n",
              "    <tr>\n",
              "      <th>state_Chihuahua</th>\n",
              "      <td>-0.833722</td>\n",
              "    </tr>\n",
              "    <tr>\n",
              "      <th>...</th>\n",
              "      <td>...</td>\n",
              "    </tr>\n",
              "    <tr>\n",
              "      <th>deathcauseeng_Perinatal</th>\n",
              "      <td>-21.511428</td>\n",
              "    </tr>\n",
              "    <tr>\n",
              "      <th>deathcauseeng_Reproductive</th>\n",
              "      <td>-9.614837</td>\n",
              "    </tr>\n",
              "    <tr>\n",
              "      <th>deathcauseeng_Respiratory</th>\n",
              "      <td>-8.506743</td>\n",
              "    </tr>\n",
              "    <tr>\n",
              "      <th>deathcauseeng_Skin</th>\n",
              "      <td>-8.665240</td>\n",
              "    </tr>\n",
              "    <tr>\n",
              "      <th>deathcauseeng_Tumors</th>\n",
              "      <td>-12.126435</td>\n",
              "    </tr>\n",
              "  </tbody>\n",
              "</table>\n",
              "<p>79 rows × 1 columns</p>\n",
              "</div>"
            ],
            "text/plain": [
              "                            Coefficient\n",
              "state_Baja California         -1.917132\n",
              "state_Baja California Sur     -1.683276\n",
              "state_Campeche                -1.491303\n",
              "state_Chiapas                 -3.777280\n",
              "state_Chihuahua               -0.833722\n",
              "...                                 ...\n",
              "deathcauseeng_Perinatal      -21.511428\n",
              "deathcauseeng_Reproductive    -9.614837\n",
              "deathcauseeng_Respiratory     -8.506743\n",
              "deathcauseeng_Skin            -8.665240\n",
              "deathcauseeng_Tumors         -12.126435\n",
              "\n",
              "[79 rows x 1 columns]"
            ]
          },
          "execution_count": 9,
          "metadata": {},
          "output_type": "execute_result"
        }
      ],
      "source": [
        "coeff_parameter = pd.DataFrame(regr.coef_,X.columns,columns=['Coefficient'])\n",
        "coeff_parameter"
      ]
    },
    {
      "cell_type": "code",
      "execution_count": 10,
      "metadata": {
        "id": "1-rLmbXAcRo0"
      },
      "outputs": [],
      "source": [
        "coeff_parameter.reset_index(inplace=True)\n"
      ]
    },
    {
      "cell_type": "code",
      "execution_count": 11,
      "metadata": {
        "colab": {
          "base_uri": "https://localhost:8080/",
          "height": 206
        },
        "id": "m1nHeoS_cRl5",
        "outputId": "1a61ea47-7929-491a-8f2f-df83374a5842"
      },
      "outputs": [
        {
          "data": {
            "text/html": [
              "<div>\n",
              "<style scoped>\n",
              "    .dataframe tbody tr th:only-of-type {\n",
              "        vertical-align: middle;\n",
              "    }\n",
              "\n",
              "    .dataframe tbody tr th {\n",
              "        vertical-align: top;\n",
              "    }\n",
              "\n",
              "    .dataframe thead th {\n",
              "        text-align: right;\n",
              "    }\n",
              "</style>\n",
              "<table border=\"1\" class=\"dataframe\">\n",
              "  <thead>\n",
              "    <tr style=\"text-align: right;\">\n",
              "      <th></th>\n",
              "      <th>index</th>\n",
              "      <th>Coefficient</th>\n",
              "    </tr>\n",
              "  </thead>\n",
              "  <tbody>\n",
              "    <tr>\n",
              "      <th>0</th>\n",
              "      <td>state_Baja California</td>\n",
              "      <td>-1.917132</td>\n",
              "    </tr>\n",
              "    <tr>\n",
              "      <th>1</th>\n",
              "      <td>state_Baja California Sur</td>\n",
              "      <td>-1.683276</td>\n",
              "    </tr>\n",
              "    <tr>\n",
              "      <th>2</th>\n",
              "      <td>state_Campeche</td>\n",
              "      <td>-1.491303</td>\n",
              "    </tr>\n",
              "    <tr>\n",
              "      <th>3</th>\n",
              "      <td>state_Chiapas</td>\n",
              "      <td>-3.777280</td>\n",
              "    </tr>\n",
              "    <tr>\n",
              "      <th>4</th>\n",
              "      <td>state_Chihuahua</td>\n",
              "      <td>-0.833722</td>\n",
              "    </tr>\n",
              "  </tbody>\n",
              "</table>\n",
              "</div>"
            ],
            "text/plain": [
              "                       index  Coefficient\n",
              "0      state_Baja California    -1.917132\n",
              "1  state_Baja California Sur    -1.683276\n",
              "2             state_Campeche    -1.491303\n",
              "3              state_Chiapas    -3.777280\n",
              "4            state_Chihuahua    -0.833722"
            ]
          },
          "execution_count": 11,
          "metadata": {},
          "output_type": "execute_result"
        }
      ],
      "source": [
        "coeff_parameter.head()"
      ]
    },
    {
      "cell_type": "code",
      "execution_count": 12,
      "metadata": {
        "id": "Lb8lHIhDcRjZ"
      },
      "outputs": [],
      "source": [
        "coeff_parameter['Name'] = coeff_parameter['index'].str.split('_', expand=True)[0]\n",
        "coeff_parameter['Value'] = coeff_parameter['index'].str.split('_', expand=True)[1]\n",
        "\n",
        "coeff_parameter.sort_values(by=['Coefficient'], inplace=True)\n"
      ]
    },
    {
      "cell_type": "code",
      "execution_count": 13,
      "metadata": {
        "colab": {
          "base_uri": "https://localhost:8080/",
          "height": 411
        },
        "id": "91vquxaS_7uY",
        "outputId": "26a6c355-f8f7-4d49-a255-b131e823aa1a"
      },
      "outputs": [
        {
          "data": {
            "image/png": "[encoded data removed]",
            "text/plain": [
              "<Figure size 432x288 with 1 Axes>"
            ]
          },
          "metadata": {
            "needs_background": "light"
          },
          "output_type": "display_data"
        }
      ],
      "source": [
        "import matplotlib.pyplot as plt\n",
        "state_coeff=coeff_parameter.loc[(coeff_parameter[\"Name\"] == \"state\")] \n",
        "\n",
        "plt.bar(state_coeff['Value'], state_coeff['Coefficient'])\n",
        "plt.xticks(rotation=90)\n",
        "plt.show()\n",
        "\n",
        "\n",
        "#coeff_parameter.head(50)"
      ]
    },
    {
      "cell_type": "code",
      "execution_count": 14,
      "metadata": {
        "colab": {
          "base_uri": "https://localhost:8080/",
          "height": 349
        },
        "id": "n40VRpkCI94b",
        "outputId": "d37e7b23-e734-422a-cc52-ac4f809b3973"
      },
      "outputs": [
        {
          "data": {
            "image/png": "[encoded data removed]",
            "text/plain": [
              "<Figure size 432x288 with 1 Axes>"
            ]
          },
          "metadata": {
            "needs_background": "light"
          },
          "output_type": "display_data"
        }
      ],
      "source": [
        "death_coeff=coeff_parameter.loc[(coeff_parameter[\"Name\"] == \"deathcauseeng\")] \n",
        "plt.bar(death_coeff['Value'], death_coeff['Coefficient'])\n",
        "plt.xticks(rotation=90)\n",
        "plt.show()"
      ]
    },
    {
      "cell_type": "code",
      "execution_count": 15,
      "metadata": {
        "colab": {
          "base_uri": "https://localhost:8080/",
          "height": 374
        },
        "id": "e_cFUOhSI91X",
        "outputId": "3f071dd9-a17a-4268-9e31-7f7c1733663f"
      },
      "outputs": [
        {
          "data": {
            "image/png": "[encoded data removed]",
            "text/plain": [
              "<Figure size 432x288 with 1 Axes>"
            ]
          },
          "metadata": {
            "needs_background": "light"
          },
          "output_type": "display_data"
        }
      ],
      "source": [
        "scholarity_coeff=coeff_parameter.loc[(coeff_parameter[\"Name\"] == \"scholarity\")] \n",
        "ax=plt.bar(scholarity_coeff['Value'], scholarity_coeff['Coefficient'])\n",
        "plt.xticks(rotation=90)\n",
        "\n",
        "plt.show()"
      ]
    },
    {
      "cell_type": "code",
      "execution_count": 16,
      "metadata": {
        "colab": {
          "base_uri": "https://localhost:8080/",
          "height": 344
        },
        "id": "B9072_A0I9xj",
        "outputId": "ea1cf1de-38df-461d-fd1d-c6cc9384da6e"
      },
      "outputs": [
        {
          "data": {
            "image/png": "[encoded data removed]",
            "text/plain": [
              "<Figure size 432x288 with 1 Axes>"
            ]
          },
          "metadata": {
            "needs_background": "light"
          },
          "output_type": "display_data"
        }
      ],
      "source": [
        "language_coeff=coeff_parameter.loc[(coeff_parameter[\"Name\"] == \"languageeng\")] \n",
        "plt.bar(language_coeff['Value'], language_coeff['Coefficient'])\n",
        "plt.xticks(rotation=90)\n",
        "plt.show()"
      ]
    },
    {
      "cell_type": "code",
      "execution_count": 17,
      "metadata": {
        "colab": {
          "base_uri": "https://localhost:8080/",
          "height": 279
        },
        "id": "TfhyzqAsI9t3",
        "outputId": "4ac447d0-b01c-4e7c-9e39-cc851dded223"
      },
      "outputs": [
        {
          "data": {
            "image/png": "[encoded data removed]",
            "text/plain": [
              "<Figure size 432x288 with 1 Axes>"
            ]
          },
          "metadata": {
            "needs_background": "light"
          },
          "output_type": "display_data"
        }
      ],
      "source": [
        "gender_coeff=coeff_parameter.loc[(coeff_parameter[\"Name\"] == \"gender\")] \n",
        "plt.bar(gender_coeff['Value'], gender_coeff['Coefficient'])\n",
        "plt.xticks(rotation=90)\n",
        "plt.show()"
      ]
    },
    {
      "cell_type": "code",
      "execution_count": 18,
      "metadata": {
        "colab": {
          "base_uri": "https://localhost:8080/"
        },
        "id": "17AtrNP2GM11",
        "outputId": "4754fe02-e4d6-4af2-e461-a294954846e4"
      },
      "outputs": [
        {
          "name": "stdout",
          "output_type": "stream",
          "text": [
            "0.4847157692019868\n",
            "71.46224968391068\n"
          ]
        }
      ],
      "source": [
        "print(regr.score(X_test, y_test))\n",
        "print(regr.intercept_)"
      ]
    },
    {
      "cell_type": "code",
      "execution_count": 20,
      "metadata": {},
      "outputs": [],
      "source": [
        "coeff_parameter.to_csv('parameters.csv')"
      ]
    }
  ],
  "metadata": {
    "colab": {
      "collapsed_sections": [],
      "name": "MLdiseases.ipynb",
      "provenance": []
    },
    "gpuClass": "standard",
    "kernelspec": {
      "display_name": "Python 3.10.6 64-bit (windows store)",
      "language": "python",
      "name": "python3"
    },
    "language_info": {
      "codemirror_mode": {
        "name": "ipython",
        "version": 3
      },
      "file_extension": ".py",
      "mimetype": "text/x-python",
      "name": "python",
      "nbconvert_exporter": "python",
      "pygments_lexer": "ipython3",
      "version": "3.10.6"
    },
    "vscode": {
      "interpreter": {
        "hash": "f67272f8226a62d5ad5ad600b8605cb72ba6066dcf629ea2a488df2afb972428"
      }
    }
  },
  "nbformat": 4,
  "nbformat_minor": 0
}
